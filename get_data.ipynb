{
 "cells": [
  {
   "cell_type": "code",
   "execution_count": 3,
   "id": "78e9e614-3729-4fdc-9635-bb4ca7f8284f",
   "metadata": {},
   "outputs": [
    {
     "name": "stderr",
     "output_type": "stream",
     "text": [
      "[*********************100%***********************]  1 of 1 completed\n",
      "[*********************100%***********************]  1 of 1 completed\n",
      "[*********************100%***********************]  1 of 1 completed\n"
     ]
    },
    {
     "name": "stdout",
     "output_type": "stream",
     "text": [
      "Nike data downloaded and saved successfully.\n",
      "Goldman Sachs data downloaded and saved successfully.\n",
      "Johnson and Johnson data downloaded and saved successfully.\n"
     ]
    },
    {
     "name": "stderr",
     "output_type": "stream",
     "text": [
      "[*********************100%***********************]  1 of 1 completed\n",
      "[*********************100%***********************]  1 of 1 completed"
     ]
    },
    {
     "name": "stdout",
     "output_type": "stream",
     "text": [
      "Pfizer data downloaded and saved successfully.\n",
      "JP Morgan Chase and Co data downloaded and saved successfully.\n"
     ]
    },
    {
     "name": "stderr",
     "output_type": "stream",
     "text": [
      "\n"
     ]
    }
   ],
   "source": [
    "import yfinance as yf\n",
    "import pandas as pd\n",
    "\n",
    "# definite stock\n",
    "tickers = {\n",
    "    \"Nike\": \"NKE\",\n",
    "    \"Goldman Sachs\": \"GS\",\n",
    "    \"Johnson and Johnson\": \"JNJ\",\n",
    "    \"Pfizer\": \"PFE\",\n",
    "    \"JP Morgan Chase and Co\": \"JPM\"\n",
    "}\n",
    "\n",
    "# date\n",
    "start_date = \"2009-04-05\"\n",
    "end_date = \"2019-04-05\"\n",
    "\n",
    "for ticker, symbol in tickers.items():\n",
    "    try:\n",
    "        stock_data = yf.download(symbol, start=start_date, end=end_date)\n",
    "        stock_data.to_csv(f'./data/{ticker}_stock_data.csv', index=True)\n",
    "        print(f\"{ticker} data downloaded and saved successfully.\")\n",
    "    except Exception as e:\n",
    "        print(f\"Failed to download {ticker} data: {e}\")"
   ]
  },
  {
   "cell_type": "code",
   "execution_count": 4,
   "id": "3cc67661-3427-4559-b764-17d7f4c57395",
   "metadata": {},
   "outputs": [
    {
     "name": "stdout",
     "output_type": "stream",
     "text": [
      "Price           Close       High        Low       Open     Volume\n",
      "Ticker            JPM        JPM        JPM        JPM        JPM\n",
      "Date                                                             \n",
      "2009-04-06  19.015760  19.487782  18.665115  19.062962   72188000\n",
      "2009-04-07  18.375156  18.914610  18.213320  18.395386   73652600\n",
      "2009-04-08  18.496531  18.766257  17.876158  18.510017   66538300\n",
      "2009-04-09  22.083904  22.313172  20.364395  20.526231  147913000\n",
      "2009-04-13  22.724510  23.027954  21.450049  21.584911  110196200\n",
      "...               ...        ...        ...        ...        ...\n",
      "2019-03-29  85.205658  85.845348  84.666962  85.466584   14523400\n",
      "2019-04-01  88.075867  88.109536  85.954776  85.980026   17499300\n",
      "2019-04-02  88.496712  88.749225  87.814934  88.042191   10295400\n",
      "2019-04-03  88.673462  89.523584  88.202110  89.060645   11499200\n",
      "2019-04-04  89.530106  89.674295  88.588665  88.673485   11952100\n",
      "\n",
      "[2517 rows x 5 columns]\n"
     ]
    }
   ],
   "source": [
    "print(stock_data)"
   ]
  },
  {
   "cell_type": "code",
   "execution_count": 3,
   "id": "02199b0f-7240-4e16-a139-ffa03559d737",
   "metadata": {},
   "outputs": [
    {
     "name": "stdout",
     "output_type": "stream",
     "text": [
      "           Price               Close                High                 Low  \\\n",
      "0         Ticker                  GS                  GS                  GS   \n",
      "1           Date                 NaN                 NaN                 NaN   \n",
      "2     2009-04-06   88.79019927978516   89.77971364844838   86.81116473521094   \n",
      "3     2009-04-07   88.35633087158203   91.15742769655337   86.44579868913141   \n",
      "4     2009-04-08   87.34396362304688   89.47523477509179   85.63133688534008   \n",
      "...          ...                 ...                 ...                 ...   \n",
      "2514  2019-03-29  166.29132080078125   167.2613997736378  165.55509165552309   \n",
      "2515  2019-04-01    170.405517578125  171.57480639686173  167.69447718376935   \n",
      "2516  2019-04-02  171.06378173828125  171.28897487028397  169.24487041807438   \n",
      "2517  2019-04-03  173.97406005859375  174.17326990821294   171.9645952954078   \n",
      "2518  2019-04-04  175.16061401367188  176.94487176402106  173.66218588590277   \n",
      "\n",
      "                    Open    Volume  \n",
      "0                     GS        GS  \n",
      "1                    NaN       NaN  \n",
      "2      88.29543919182966  21098100  \n",
      "3      86.77310096893572  22183000  \n",
      "4      89.33822440378538  20406200  \n",
      "...                  ...       ...  \n",
      "2514  166.88895024320087   2632800  \n",
      "2515   168.0322734935824   3562600  \n",
      "2516  169.97244287595814   2247000  \n",
      "2517   172.5795646785851   3227900  \n",
      "2518  173.92203219882398   2582300  \n",
      "\n",
      "[2519 rows x 6 columns]\n"
     ]
    }
   ],
   "source": [
    "import pandas as pd\n",
    "\n",
    "df = pd.read_csv('./data/Goldman Sachs_stock_data.csv', encoding='utf-8')\n",
    "\n",
    "print(df)"
   ]
  }
 ],
 "metadata": {
  "kernelspec": {
   "display_name": "Python 3 (ipykernel)",
   "language": "python",
   "name": "python3"
  },
  "language_info": {
   "codemirror_mode": {
    "name": "ipython",
    "version": 3
   },
   "file_extension": ".py",
   "mimetype": "text/x-python",
   "name": "python",
   "nbconvert_exporter": "python",
   "pygments_lexer": "ipython3",
   "version": "3.10.14"
  }
 },
 "nbformat": 4,
 "nbformat_minor": 5
}
